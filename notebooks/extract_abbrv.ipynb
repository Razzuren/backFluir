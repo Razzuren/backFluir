{
 "cells": [
  {
   "metadata": {},
   "cell_type": "markdown",
   "source": "# Extracting Abbreviations from XML files",
   "id": "f2aed7e0f87f0eff"
  },
  {
   "cell_type": "code",
   "id": "initial_id",
   "metadata": {
    "collapsed": true,
    "ExecuteTime": {
     "end_time": "2024-09-15T02:25:34.377992Z",
     "start_time": "2024-09-15T02:25:27.595903Z"
    }
   },
   "source": [
    "import os\n",
    "import pandas as pd\n",
    "import xml.etree.ElementTree as elementTree\n"
   ],
   "outputs": [],
   "execution_count": 1
  },
  {
   "metadata": {},
   "cell_type": "markdown",
   "source": "# Load XML files and extract abbreviations",
   "id": "350c25c502fda9be"
  },
  {
   "metadata": {
    "ExecuteTime": {
     "end_time": "2024-09-15T02:29:53.750700Z",
     "start_time": "2024-09-15T02:29:52.461810Z"
    }
   },
   "cell_type": "code",
   "source": [
    "directory = '' #Modify this to the directory containing the XML files\n",
    "\n",
    "data = []\n",
    "\n",
    "for filename in os.listdir(directory):\n",
    "    if filename.endswith('.xml'):\n",
    "        file_path = os.path.join(directory, filename)\n",
    "        tree = elementTree.parse(file_path)\n",
    "        root = tree.getroot()\n",
    "        \n",
    "        for annotation in root.findall('.//annotation'):\n",
    "            text = annotation.get('text')\n",
    "            abbr = annotation.get('abbr')\n",
    "            if text and abbr:\n",
    "                data.append({'text': text, 'abbr': abbr})\n",
    "df = pd.DataFrame(data)\n",
    "print(\"Done\")"
   ],
   "id": "4621c6bd176ce05c",
   "outputs": [
    {
     "name": "stdout",
     "output_type": "stream",
     "text": [
      "Done\n"
     ]
    }
   ],
   "execution_count": 8
  },
  {
   "metadata": {},
   "cell_type": "markdown",
   "source": "# Preview the extracted data",
   "id": "d5eb32ffbf431661"
  },
  {
   "metadata": {
    "ExecuteTime": {
     "end_time": "2024-09-15T02:30:09.547046Z",
     "start_time": "2024-09-15T02:30:09.526518Z"
    }
   },
   "cell_type": "code",
   "source": "print(df)",
   "id": "d90d5167ea575cf0",
   "outputs": [
    {
     "name": "stdout",
     "output_type": "stream",
     "text": [
      "     text                       abbr\n",
      "0     POI    Pós Operatório Imediato\n",
      "1     AVP   Acesso Venoso Periférico\n",
      "2     STP                Soroterapia\n",
      "3       L                      Livre\n",
      "4      PP           pressão positiva\n",
      "...   ...                        ...\n",
      "2624   r1                residente 1\n",
      "2625   cc           centro cirúrgico\n",
      "2629   OE               olho esquedo\n",
      "2647  BCR  bulhas cardíacas rítmicas\n",
      "2649  HMF  história mórbido familiar\n",
      "\n",
      "[757 rows x 2 columns]\n"
     ]
    }
   ],
   "execution_count": 11
  },
  {
   "metadata": {},
   "cell_type": "markdown",
   "source": "# Remove duplicates and entries without abbreviations",
   "id": "eefb21079d7a5988"
  },
  {
   "metadata": {
    "ExecuteTime": {
     "end_time": "2024-09-15T02:30:06.585369Z",
     "start_time": "2024-09-15T02:30:06.570219Z"
    }
   },
   "cell_type": "code",
   "source": [
    "df = df.drop_duplicates()\n",
    "de = df.dropna(subset = ['abbr'])"
   ],
   "id": "9905c8d58d95bd92",
   "outputs": [],
   "execution_count": 10
  },
  {
   "metadata": {},
   "cell_type": "markdown",
   "source": "# Save the data to a CSV file ",
   "id": "f48b2c0c4f568ec5"
  },
  {
   "metadata": {
    "ExecuteTime": {
     "end_time": "2024-09-15T02:31:35.704975Z",
     "start_time": "2024-09-15T02:31:35.681848Z"
    }
   },
   "cell_type": "code",
   "source": "df.to_csv(directory+'/abbreviations.csv', index=False)",
   "id": "ed480c93b279e4c5",
   "outputs": [],
   "execution_count": 12
  }
 ],
 "metadata": {
  "kernelspec": {
   "display_name": "Python 3",
   "language": "python",
   "name": "python3"
  },
  "language_info": {
   "codemirror_mode": {
    "name": "ipython",
    "version": 2
   },
   "file_extension": ".py",
   "mimetype": "text/x-python",
   "name": "python",
   "nbconvert_exporter": "python",
   "pygments_lexer": "ipython2",
   "version": "2.7.6"
  }
 },
 "nbformat": 4,
 "nbformat_minor": 5
}
